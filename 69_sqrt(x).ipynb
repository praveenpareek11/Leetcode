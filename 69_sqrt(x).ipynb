{
 "cells": [
  {
   "cell_type": "markdown",
   "metadata": {},
   "source": [
    "## 69. Sqrt(x)\n",
    "\n",
    "    Given a non-negative integer x, return the square root of x rounded down to the nearest integer. The returned integer should be non-negative as well.\n",
    "\n",
    "    You must not use any built-in exponent function or operator.\n",
    "\n",
    "    For example, do not use pow(x, 0.5) in c++ or x ** 0.5 in python.\n",
    "\n",
    "\n",
    "#### Examples:\n",
    "\n",
    "    Example 1:\n",
    "\n",
    "    Input: x = 4\n",
    "    Output: 2\n",
    "    Explanation: The square root of 4 is 2, so we return 2.\n",
    "\n",
    "    Example 2:\n",
    "\n",
    "    Input: x = 8\n",
    "    Output: 2\n",
    "    Explanation: The square root of 8 is 2.82842..., and since we round it down to the nearest integer, 2 is returned.\n",
    " \n",
    "\n",
    "#### Constraints:\n",
    "\n",
    "    0 <= x <= 231 - 1"
   ]
  },
  {
   "cell_type": "markdown",
   "metadata": {},
   "source": [
    "## Approach-01"
   ]
  },
  {
   "cell_type": "code",
   "execution_count": 1,
   "metadata": {},
   "outputs": [],
   "source": [
    "# Optimized Solution:  Binary Search (Complexity O(log(n)))\n",
    "class Solution1:\n",
    "    def mySqrt(self, x):\n",
    "        l, h = 0, x\n",
    "\n",
    "        while l <= h:\n",
    "            mid = l + (h-l)//2\n",
    "\n",
    "            if mid * mid == x:\n",
    "                return mid\n",
    "            elif mid * mid < x:\n",
    "                ans = mid\n",
    "                l = mid + 1\n",
    "            else:\n",
    "                h = mid - 1\n",
    "            \n",
    "        return ans"
   ]
  },
  {
   "cell_type": "code",
   "execution_count": 2,
   "metadata": {},
   "outputs": [
    {
     "data": {
      "text/plain": [
       "2"
      ]
     },
     "execution_count": 2,
     "metadata": {},
     "output_type": "execute_result"
    }
   ],
   "source": [
    "Solution1().mySqrt(8)"
   ]
  },
  {
   "cell_type": "markdown",
   "metadata": {},
   "source": [
    "#### Points to Ponder\n",
    "\n",
    "    - low + (high - low) // 2 == (low + high) // 2\n",
    "\n",
    "    - Python allows infinitely large integer. So this does work for python however the formula accounts for integer overflow. Just safe to go for l + ((r - 2)//2) to become language agnostic.\n",
    "\n",
    "    - e.g. Consider an example where the data type of the low and high is an integer. So integer has an upper range of 65535 if it is an unsigned integer. Now consider the value of low as 1000 and high as 65000. Now if you calculate mid as (low + high)/2, it will give you a wrong result due to overflow of integer data type."
   ]
  },
  {
   "cell_type": "markdown",
   "metadata": {},
   "source": [
    "## Approach-02"
   ]
  },
  {
   "cell_type": "code",
   "execution_count": 3,
   "metadata": {},
   "outputs": [],
   "source": [
    "# Brute Force\n",
    "class Solution2:\n",
    "    def mySqrt(self, x):\n",
    "        i = 0\n",
    "        while i*i <= x:  i+= 1\n",
    "        return i -1"
   ]
  },
  {
   "cell_type": "code",
   "execution_count": 4,
   "metadata": {},
   "outputs": [
    {
     "data": {
      "text/plain": [
       "2"
      ]
     },
     "execution_count": 4,
     "metadata": {},
     "output_type": "execute_result"
    }
   ],
   "source": [
    "Solution2().mySqrt(8)"
   ]
  },
  {
   "attachments": {},
   "cell_type": "markdown",
   "metadata": {},
   "source": [
    "## Approach-03"
   ]
  },
  {
   "cell_type": "code",
   "execution_count": 5,
   "metadata": {},
   "outputs": [],
   "source": [
    "class Solution3:\n",
    "    def mySqrt(self, x):\n",
    "        l, h = 0, x\n",
    "\n",
    "        while l<=h:\n",
    "            mid = l + (h-l)//2\n",
    "\n",
    "            if mid * mid <= x < (mid + 1) * (mid + 1):\n",
    "                return mid\n",
    "            elif mid * mid > x:\n",
    "                h = mid - 1\n",
    "            else:\n",
    "                l = mid + 1"
   ]
  },
  {
   "attachments": {},
   "cell_type": "markdown",
   "metadata": {},
   "source": [
    "### Points to Ponder:\n",
    "\n",
    "    1. This function first checks if the input is 0, in which case it returns 0.\n",
    "    \n",
    "    2. If the input is not 0, it sets the left and right boundaries of the search to 1 and x, respectively.\n",
    "    \n",
    "    3. It then enters a loop where it calculates the midpoint between the left and right boundaries and checks if the square of the midpoint is less than or equal to x and less than the square of the midpoint + 1.\n",
    "        - If either of these conditions is true, it returns the midpoint.\n",
    "\n",
    "    4. If the square of the midpoint is greater than x, it sets the right boundary to the midpoint - 1.\n",
    "    \n",
    "    5. If the square of the midpoint is less than x, it sets the left boundary to the midpoint + 1.\n",
    "    \n",
    "    6. This process continues until the left and right boundaries meet, at which point the function returns the midpoint.\n",
    "\n",
    "    This algorithm has a time complexity of O(log n) and a space complexity of O(1)."
   ]
  },
  {
   "cell_type": "code",
   "execution_count": 6,
   "metadata": {},
   "outputs": [
    {
     "data": {
      "text/plain": [
       "2"
      ]
     },
     "execution_count": 6,
     "metadata": {},
     "output_type": "execute_result"
    }
   ],
   "source": [
    "Solution3().mySqrt(8)"
   ]
  }
 ],
 "metadata": {
  "kernelspec": {
   "display_name": "Python 3.10.8 64-bit ('tpot')",
   "language": "python",
   "name": "python3"
  },
  "language_info": {
   "codemirror_mode": {
    "name": "ipython",
    "version": 3
   },
   "file_extension": ".py",
   "mimetype": "text/x-python",
   "name": "python",
   "nbconvert_exporter": "python",
   "pygments_lexer": "ipython3",
   "version": "3.10.8"
  },
  "orig_nbformat": 4,
  "vscode": {
   "interpreter": {
    "hash": "55ff317a1992a31760d8ba7bfa633f436e5942a17ebc103a498241a022495e1f"
   }
  }
 },
 "nbformat": 4,
 "nbformat_minor": 2
}
