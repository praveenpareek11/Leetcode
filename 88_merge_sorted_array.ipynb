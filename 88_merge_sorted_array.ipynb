{
 "cells": [
  {
   "attachments": {},
   "cell_type": "markdown",
   "metadata": {},
   "source": [
    "## 88. Merge Sorted Array\n",
    "\n",
    "    You are given two integer arrays nums1 and nums2, sorted in non-decreasing order, and two integers m and n, representing the number of elements in nums1 and nums2 respectively.\n",
    "\n",
    "    Merge nums1 and nums2 into a single array sorted in non-decreasing order.\n",
    "\n",
    "    The final sorted array should not be returned by the function, but instead be stored inside the array nums1. To accommodate this, nums1 has a length of m + n, where the first m elements denote the elements that should be merged, and the last n elements are set to 0 and should be ignored. nums2 has a length of n.\n",
    "\n",
    "#### Examples:\n",
    "\n",
    "    Example 1:\n",
    "\n",
    "    Input: nums1 = [1,2,3,0,0,0], m = 3, nums2 = [2,5,6], n = 3\n",
    "    Output: [1,2,2,3,5,6]\n",
    "    Explanation: The arrays we are merging are [1,2,3] and [2,5,6].\n",
    "    The result of the merge is [1,2,2,3,5,6] with the underlined elements coming from nums1.\n",
    "\n",
    "    Example 2:\n",
    "\n",
    "    Input: nums1 = [1], m = 1, nums2 = [], n = 0\n",
    "    Output: [1]\n",
    "    Explanation: The arrays we are merging are [1] and [].\n",
    "    The result of the merge is [1].\n",
    "    \n",
    "    Example 3:\n",
    "\n",
    "    Input: nums1 = [0], m = 0, nums2 = [1], n = 1\n",
    "    Output: [1]\n",
    "    Explanation: The arrays we are merging are [] and [1].\n",
    "    The result of the merge is [1].\n",
    "    Note that because m = 0, there are no elements in nums1. The 0 is only there to ensure the merge result can fit in nums1.\n",
    "\n",
    "#### Constraints:\n",
    "\n",
    "    nums1.length == m + n\n",
    "    nums2.length == n\n",
    "    0 <= m, n <= 200\n",
    "    1 <= m + n <= 200\n",
    "    -109 <= nums1[i], nums2[j] <= 109\n",
    "    \n",
    "\n",
    "    Follow up: Can you come up with an algorithm that runs in O(m + n) time?"
   ]
  },
  {
   "cell_type": "markdown",
   "metadata": {},
   "source": [
    "## Approach-01"
   ]
  },
  {
   "cell_type": "code",
   "execution_count": 4,
   "metadata": {},
   "outputs": [],
   "source": [
    "class Solution1:\n",
    "    def merge(self, nums1: list[int], m: int, nums2: list[int], n: int) -> None:\n",
    "        \"\"\"\n",
    "        Do not return anything, modify nums1 in-place instead.\n",
    "        \"\"\"\n",
    "        p1 = m-1\n",
    "        p2 = n-1\n",
    "\n",
    "        p = m+n-1\n",
    "\n",
    "        while p1 >= 0 and p2 >= 0:\n",
    "            if nums1[p1] > nums2[p2]:\n",
    "                nums1[p] = nums1[p1]\n",
    "                p1 -= 1\n",
    "            else:\n",
    "                nums1[p] = nums2[p2]\n",
    "                p2 -= 1\n",
    "            p -= 1\n",
    "\n",
    "        nums1[:p2+1] = nums2[:p2+1]\n",
    "\n",
    "        return nums1\n",
    "                "
   ]
  },
  {
   "cell_type": "code",
   "execution_count": 5,
   "metadata": {},
   "outputs": [
    {
     "data": {
      "text/plain": [
       "[1, 2, 2, 3, 5, 6]"
      ]
     },
     "execution_count": 5,
     "metadata": {},
     "output_type": "execute_result"
    }
   ],
   "source": [
    "Solution1().merge(nums1 = [1,2,3,0,0,0], m = 3, nums2 = [2,5,6], n = 3)"
   ]
  },
  {
   "attachments": {},
   "cell_type": "markdown",
   "metadata": {},
   "source": [
    "### Points to Ponder:\n",
    "\n",
    "    1. This function first initializes three pointers: p1 and p2 point to the last elements of nums1 and nums2, respectively, and p points to the last element of the merged array.\n",
    "    \n",
    "    2. It then enters a loop where it compares the last elements of nums1 and nums2 and places the larger element at the end of the merged array.\n",
    "    \n",
    "    3. It then decrements p1, p2, and p and continues until one of the arrays is empty.\n",
    "\n",
    "    4. Finally, it appends the remaining elements of nums2 to the end of nums1 using slicing.\n",
    "\n",
    "    This algorithm has a time complexity of O(m + n) and a space complexity of O(1)."
   ]
  },
  {
   "cell_type": "markdown",
   "metadata": {},
   "source": [
    "## Approach-02"
   ]
  },
  {
   "cell_type": "code",
   "execution_count": 8,
   "metadata": {},
   "outputs": [],
   "source": [
    "class Solution2:\n",
    "    def merge(self, nums1: list[int], m: int, nums2: list[int], n: int) -> None:\n",
    "        \"\"\"\n",
    "        Do not return anything, modify nums1 in-place instead.\n",
    "        \"\"\"\n",
    "        nums1[m:] = nums2[:n]\n",
    "        nums1.sort()\n",
    "\n",
    "        return nums1\n",
    "                "
   ]
  },
  {
   "cell_type": "code",
   "execution_count": 9,
   "metadata": {},
   "outputs": [
    {
     "data": {
      "text/plain": [
       "[1, 2, 2, 3, 5, 6]"
      ]
     },
     "execution_count": 9,
     "metadata": {},
     "output_type": "execute_result"
    }
   ],
   "source": [
    "Solution2().merge(nums1 = [1,2,3,0,0,0], m = 3, nums2 = [2,5,6], n = 3)"
   ]
  }
 ],
 "metadata": {
  "kernelspec": {
   "display_name": "Python 3.10.8 64-bit ('tpot')",
   "language": "python",
   "name": "python3"
  },
  "language_info": {
   "codemirror_mode": {
    "name": "ipython",
    "version": 3
   },
   "file_extension": ".py",
   "mimetype": "text/x-python",
   "name": "python",
   "nbconvert_exporter": "python",
   "pygments_lexer": "ipython3",
   "version": "3.10.8 (main, Oct 13 2022, 09:48:40) [Clang 14.0.0 (clang-1400.0.29.102)]"
  },
  "orig_nbformat": 4,
  "vscode": {
   "interpreter": {
    "hash": "55ff317a1992a31760d8ba7bfa633f436e5942a17ebc103a498241a022495e1f"
   }
  }
 },
 "nbformat": 4,
 "nbformat_minor": 2
}
