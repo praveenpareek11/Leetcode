{
 "cells": [
  {
   "cell_type": "markdown",
   "metadata": {},
   "source": [
    "## 190. Reverse Bits\n",
    "\n",
    "    Reverse bits of a given 32 bits unsigned integer.\n",
    "\n",
    "\n",
    "#### Examples:\n",
    "\n",
    "    Example 1:\n",
    "\n",
    "    Input: n = 00000010100101000001111010011100\n",
    "    Output:    964176192 (00111001011110000010100101000000)\n",
    "    Explanation: The input binary string 00000010100101000001111010011100 represents the unsigned integer 43261596, so return 964176192 which its binary representation is 00111001011110000010100101000000.\n",
    "    Example 2:\n",
    "\n",
    "    Input: n = 11111111111111111111111111111101\n",
    "    Output:   3221225471 (10111111111111111111111111111111)\n",
    "    Explanation: The input binary string 11111111111111111111111111111101 represents the unsigned integer 4294967293, so return 3221225471 which its binary representation is 10111111111111111111111111111111.\n",
    " \n",
    "\n",
    "#### Constraints:\n",
    "\n",
    "    The input must be a binary string of length 32"
   ]
  },
  {
   "cell_type": "markdown",
   "metadata": {},
   "source": [
    "## Approach-01"
   ]
  },
  {
   "cell_type": "code",
   "execution_count": 2,
   "metadata": {},
   "outputs": [],
   "source": [
    "class Solution1:\n",
    "    def reverseBits(self, n: int) -> int:\n",
    "        return int(\"{0:032b}\".format(n)[::-1],2)"
   ]
  },
  {
   "cell_type": "code",
   "execution_count": 3,
   "metadata": {},
   "outputs": [
    {
     "data": {
      "text/plain": [
       "964176192"
      ]
     },
     "execution_count": 3,
     "metadata": {},
     "output_type": "execute_result"
    }
   ],
   "source": [
    "Solution1().reverseBits(43261596)"
   ]
  }
 ],
 "metadata": {
  "kernelspec": {
   "display_name": "Python 3.10.8 64-bit ('tpot')",
   "language": "python",
   "name": "python3"
  },
  "language_info": {
   "codemirror_mode": {
    "name": "ipython",
    "version": 3
   },
   "file_extension": ".py",
   "mimetype": "text/x-python",
   "name": "python",
   "nbconvert_exporter": "python",
   "pygments_lexer": "ipython3",
   "version": "3.10.8"
  },
  "orig_nbformat": 4,
  "vscode": {
   "interpreter": {
    "hash": "55ff317a1992a31760d8ba7bfa633f436e5942a17ebc103a498241a022495e1f"
   }
  }
 },
 "nbformat": 4,
 "nbformat_minor": 2
}
