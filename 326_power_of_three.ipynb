{
 "cells": [
  {
   "attachments": {},
   "cell_type": "markdown",
   "metadata": {},
   "source": [
    "## 326. Power of Three\n",
    "\n",
    "    Given an integer n, return true if it is a power of three. Otherwise, return false.\n",
    "\n",
    "    An integer n is a power of three, if there exists an integer x such that n == 3x.\n",
    "\n",
    "#### Examples:\n",
    "\n",
    "    Example 1:\n",
    "\n",
    "    Input: n = 27\n",
    "    Output: true\n",
    "    Explanation: 27 = 33\n",
    "\n",
    "    Example 2:\n",
    "\n",
    "    Input: n = 0\n",
    "    Output: false\n",
    "    Explanation: There is no x where 3x = 0.\n",
    "\n",
    "    Example 3:\n",
    "\n",
    "    Input: n = -1\n",
    "    Output: false\n",
    "    Explanation: There is no x where 3x = (-1).\n",
    " \n",
    "\n",
    "#### Constraints:\n",
    "\n",
    "    -231 <= n <= 231 - 1\n",
    "    \n",
    "\n",
    "    Follow up: Could you solve it without loops/recursion?"
   ]
  },
  {
   "cell_type": "markdown",
   "metadata": {},
   "source": [
    "## Approach-01"
   ]
  },
  {
   "cell_type": "code",
   "execution_count": 1,
   "metadata": {},
   "outputs": [],
   "source": [
    "class Solution1:\n",
    "    def isPowerOfThree(self, n: int) -> bool:\n",
    "        if n <= 0:\n",
    "            return False\n",
    "        \n",
    "        while n > 1 and n % 3 ==0:\n",
    "            n = n / 3\n",
    "\n",
    "        return n==1"
   ]
  },
  {
   "cell_type": "code",
   "execution_count": 2,
   "metadata": {},
   "outputs": [
    {
     "data": {
      "text/plain": [
       "True"
      ]
     },
     "execution_count": 2,
     "metadata": {},
     "output_type": "execute_result"
    }
   ],
   "source": [
    "Solution1().isPowerOfThree(243)"
   ]
  },
  {
   "cell_type": "markdown",
   "metadata": {},
   "source": [
    "## Approach-02"
   ]
  },
  {
   "cell_type": "code",
   "execution_count": 3,
   "metadata": {},
   "outputs": [],
   "source": [
    "import math\n",
    "\n",
    "class Solution2:\n",
    "    def isPowerOfThree(self, n: int) -> bool:\n",
    "        if n<=0:\n",
    "            return False\n",
    "        # Compute the value of k using the log function\n",
    "        k = math.log(n) / math.log(3)\n",
    "\n",
    "\n",
    "        # Check if k is an integer\n",
    "        return k == int(k)"
   ]
  },
  {
   "cell_type": "code",
   "execution_count": 4,
   "metadata": {},
   "outputs": [
    {
     "data": {
      "text/plain": [
       "True"
      ]
     },
     "execution_count": 4,
     "metadata": {},
     "output_type": "execute_result"
    }
   ],
   "source": [
    "Solution2().isPowerOfThree(27)"
   ]
  }
 ],
 "metadata": {
  "kernelspec": {
   "display_name": "Python 3.10.8 64-bit ('tpot')",
   "language": "python",
   "name": "python3"
  },
  "language_info": {
   "codemirror_mode": {
    "name": "ipython",
    "version": 3
   },
   "file_extension": ".py",
   "mimetype": "text/x-python",
   "name": "python",
   "nbconvert_exporter": "python",
   "pygments_lexer": "ipython3",
   "version": "3.10.8"
  },
  "orig_nbformat": 4,
  "vscode": {
   "interpreter": {
    "hash": "55ff317a1992a31760d8ba7bfa633f436e5942a17ebc103a498241a022495e1f"
   }
  }
 },
 "nbformat": 4,
 "nbformat_minor": 2
}
