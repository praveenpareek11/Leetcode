{
 "cells": [
  {
   "cell_type": "markdown",
   "metadata": {},
   "source": [
    "## 169. Majority Element\n",
    "\n",
    "    Given an array nums of size n, return the majority element.\n",
    "\n",
    "    The majority element is the element that appears more than ⌊n / 2⌋ times. You may assume that the majority element always exists in the array.\n",
    "\n",
    "#### Examples:\n",
    "\n",
    "    Example 1:\n",
    "\n",
    "    Input: nums = [3,2,3]\n",
    "    Output: 3\n",
    "\n",
    "    Example 2:\n",
    "\n",
    "    Input: nums = [2,2,1,1,1,2,2]\n",
    "    Output: 2\n",
    " \n",
    "\n",
    "#### Constraints:\n",
    "\n",
    "    n == nums.length\n",
    "    1 <= n <= 5 * 104\n",
    "    -109 <= nums[i] <= 109"
   ]
  },
  {
   "cell_type": "markdown",
   "metadata": {},
   "source": [
    "## Approach-01"
   ]
  },
  {
   "cell_type": "code",
   "execution_count": 1,
   "metadata": {},
   "outputs": [],
   "source": [
    "class Solution1():\n",
    "    def majorityElement(self, nums):\n",
    "        nums.sort()\n",
    "        return nums[len(nums)//2]"
   ]
  },
  {
   "cell_type": "code",
   "execution_count": 2,
   "metadata": {},
   "outputs": [
    {
     "data": {
      "text/plain": [
       "2"
      ]
     },
     "execution_count": 2,
     "metadata": {},
     "output_type": "execute_result"
    }
   ],
   "source": [
    "Solution1().majorityElement([2,2,1,1,1,2,2])"
   ]
  },
  {
   "cell_type": "markdown",
   "metadata": {},
   "source": [
    "## Approach-02"
   ]
  },
  {
   "cell_type": "markdown",
   "metadata": {},
   "source": [
    "#### Points to Ponder:\n",
    "\n",
    "    - Since the count of majority element will be atleast n//2 + 1 therefore, \n",
    "    - if we make a number as majorityElement and keep on incrementing the count if we encounter that element again and decrement the count if any other element is encountered then the majority element will have atleast 1 in count. Whenever the count becomes 0, reinitialise the majority element with current number.\n",
    "    - For example, nums = [2,2,1,1,1,2,2]\n",
    "    - Let's say majorityElement is 2 therefore count will be 1.\n",
    "    - Now move ahead and again 2 is encountered so count will be incremented and become 2.\n",
    "    - Now 1 is encountered so count will be decremented and become 1\n",
    "    - Now again 1 is encountered so count will be decremented and become 0\n",
    "    - Now 1 is encountered but count is 0 so initialize 1 as majority element and count to 1 again.\n",
    "    - Now 2 is encountered so count will be decremented and become 0\n",
    "    - Now again 2 is encountered but count is 0 so initialize 2 as majority element and count to 1 again.\n",
    "    - Now no more elements are left so just return the majprity element."
   ]
  },
  {
   "cell_type": "code",
   "execution_count": 9,
   "metadata": {},
   "outputs": [],
   "source": [
    "class Solution2:\n",
    "    def majorityElement(self, nums):\n",
    "        result = nums[0]\n",
    "        count = 0\n",
    "        \n",
    "        for i in range(len(nums)):\n",
    "            if nums[i] == result:\n",
    "                count += 1\n",
    "            elif nums[i] != result:\n",
    "                if count == 0:\n",
    "                    result = nums[i]\n",
    "                else:\n",
    "                    count -= 1\n",
    "        return result"
   ]
  },
  {
   "cell_type": "code",
   "execution_count": 10,
   "metadata": {},
   "outputs": [
    {
     "data": {
      "text/plain": [
       "2"
      ]
     },
     "execution_count": 10,
     "metadata": {},
     "output_type": "execute_result"
    }
   ],
   "source": [
    "Solution2().majorityElement([2,2,1,1,1,2,2])"
   ]
  }
 ],
 "metadata": {
  "kernelspec": {
   "display_name": "Python 3.10.8 64-bit ('tpot')",
   "language": "python",
   "name": "python3"
  },
  "language_info": {
   "codemirror_mode": {
    "name": "ipython",
    "version": 3
   },
   "file_extension": ".py",
   "mimetype": "text/x-python",
   "name": "python",
   "nbconvert_exporter": "python",
   "pygments_lexer": "ipython3",
   "version": "3.10.8"
  },
  "orig_nbformat": 4,
  "vscode": {
   "interpreter": {
    "hash": "55ff317a1992a31760d8ba7bfa633f436e5942a17ebc103a498241a022495e1f"
   }
  }
 },
 "nbformat": 4,
 "nbformat_minor": 2
}
