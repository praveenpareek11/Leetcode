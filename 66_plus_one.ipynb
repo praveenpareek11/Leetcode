{
 "cells": [
  {
   "cell_type": "markdown",
   "metadata": {},
   "source": [
    "## 66. Plus One\n",
    "\n",
    "    You are given a large integer represented as an integer array digits, where each digits[i] is the ith digit of the integer. The digits are ordered from most significant to least significant in left-to-right order. The large integer does not contain any leading 0's.\n",
    "\n",
    "    Increment the large integer by one and return the resulting array of digits.\n",
    "\n",
    "#### Examples:\n",
    "\n",
    "    Example 1:\n",
    "\n",
    "    Input: digits = [1,2,3]\n",
    "    Output: [1,2,4]\n",
    "    Explanation: The array represents the integer 123.\n",
    "    Incrementing by one gives 123 + 1 = 124.\n",
    "    Thus, the result should be [1,2,4].\n",
    "\n",
    "    Example 2:\n",
    "\n",
    "    Input: digits = [4,3,2,1]\n",
    "    Output: [4,3,2,2]\n",
    "    Explanation: The array represents the integer 4321.\n",
    "    Incrementing by one gives 4321 + 1 = 4322.\n",
    "    Thus, the result should be [4,3,2,2].\n",
    "\n",
    "    Example 3:\n",
    "\n",
    "    Input: digits = [9]\n",
    "    Output: [1,0]\n",
    "    Explanation: The array represents the integer 9.\n",
    "    Incrementing by one gives 9 + 1 = 10.\n",
    "    Thus, the result should be [1,0].\n",
    " \n",
    "\n",
    "#### Constraints:\n",
    "\n",
    "    1 <= digits.length <= 100\n",
    "    0 <= digits[i] <= 9\n",
    "    digits does not contain any leading 0's."
   ]
  },
  {
   "cell_type": "markdown",
   "metadata": {},
   "source": [
    "## Approach-01"
   ]
  },
  {
   "cell_type": "code",
   "execution_count": 12,
   "metadata": {},
   "outputs": [],
   "source": [
    "# Brute Force\n",
    "class Solution1:\n",
    "    def plusOne(self, digits: list[int]) -> list[int]:\n",
    "        digits = [int(i) for i in str(int(''.join([str(i) for i in digits])) + 1)]\n",
    "        \n",
    "        return digits"
   ]
  },
  {
   "cell_type": "code",
   "execution_count": 13,
   "metadata": {},
   "outputs": [
    {
     "data": {
      "text/plain": [
       "[1, 2, 4]"
      ]
     },
     "execution_count": 13,
     "metadata": {},
     "output_type": "execute_result"
    }
   ],
   "source": [
    "Solution1().plusOne([1,2,3])"
   ]
  },
  {
   "cell_type": "markdown",
   "metadata": {},
   "source": [
    "## Approach-02"
   ]
  },
  {
   "cell_type": "code",
   "execution_count": 20,
   "metadata": {},
   "outputs": [],
   "source": [
    "class Solution2:\n",
    "    def plusOne(self, digits: list[int]) -> list[int]:\n",
    "        num = 0\n",
    "        for i in range(len(digits)):\n",
    "            num += digits[i] * pow(10, (len(digits)-1-i))\n",
    "        return [int(i) for i in str(num+1)]"
   ]
  },
  {
   "cell_type": "code",
   "execution_count": 21,
   "metadata": {},
   "outputs": [
    {
     "data": {
      "text/plain": [
       "[1, 2, 4]"
      ]
     },
     "execution_count": 21,
     "metadata": {},
     "output_type": "execute_result"
    }
   ],
   "source": [
    "Solution2().plusOne([1,2,3])"
   ]
  },
  {
   "cell_type": "markdown",
   "metadata": {},
   "source": [
    "#### Points to Ponder:\n",
    "\n",
    "    We're given a list of digits, and the idea here is to convert that list to an integer, num.\n",
    "    So each digit is multiplied by the proper place value and added to num.\n",
    "    For example, if digits = [3, 8, 2, 5] then on the first iteration 3 is multiplied by 10 to the power of 4-1-0 = 3, so this results in 3000, which is added to num.\n",
    "    Then 8 is multiplied by 10^2 and added to num, and so on.\n",
    "\n",
    "    The last step is to add 1 to num, convert it to a list and return that list."
   ]
  },
  {
   "attachments": {},
   "cell_type": "markdown",
   "metadata": {},
   "source": [
    "## Apporach-03"
   ]
  },
  {
   "cell_type": "code",
   "execution_count": 1,
   "metadata": {},
   "outputs": [],
   "source": [
    "class Solution3:\n",
    "    def plusOne(self, digits):\n",
    "        carry = 1\n",
    "        for i in range(len(digits)-1, -1, -1):\n",
    "            sum = digits[i] + carry\n",
    "            if sum >= 10:\n",
    "                carry = 1\n",
    "                sum -= 10\n",
    "            else:\n",
    "                carry = 0\n",
    "            digits[i] = sum\n",
    "        if carry:\n",
    "            digits.insert(0, 1)\n",
    "        return digits\n"
   ]
  },
  {
   "cell_type": "code",
   "execution_count": 2,
   "metadata": {},
   "outputs": [
    {
     "data": {
      "text/plain": [
       "[1, 2, 4]"
      ]
     },
     "execution_count": 2,
     "metadata": {},
     "output_type": "execute_result"
    }
   ],
   "source": [
    "Solution3().plusOne([1,2,3])"
   ]
  },
  {
   "attachments": {},
   "cell_type": "markdown",
   "metadata": {},
   "source": [
    "### Points to Ponder:\n",
    "\n",
    "    To increment a large integer represented as an array of digits, you can follow these steps:\n",
    "\n",
    "        1. Initialize a carry variable to 1. This will represent the carry over from adding 1 to the last digit.\n",
    "        \n",
    "        2. Iterate through the digits array in reverse order (from right to left).\n",
    "        \n",
    "        3. For each digit, add the carry to the digit and store the result in a new variable sum.\n",
    "        \n",
    "        4. If sum is greater than or equal to 10, set the carry to 1 and subtract 10 from sum. Otherwise, set the carry to 0.\n",
    "        \n",
    "        5. Replace the original digit with the value of sum.\n",
    "        \n",
    "        6. If the carry is still 1 after the loop, append a 1 to the front of the digits array."
   ]
  }
 ],
 "metadata": {
  "kernelspec": {
   "display_name": "Python 3.10.8 64-bit ('tpot')",
   "language": "python",
   "name": "python3"
  },
  "language_info": {
   "codemirror_mode": {
    "name": "ipython",
    "version": 3
   },
   "file_extension": ".py",
   "mimetype": "text/x-python",
   "name": "python",
   "nbconvert_exporter": "python",
   "pygments_lexer": "ipython3",
   "version": "3.10.8"
  },
  "orig_nbformat": 4,
  "vscode": {
   "interpreter": {
    "hash": "55ff317a1992a31760d8ba7bfa633f436e5942a17ebc103a498241a022495e1f"
   }
  }
 },
 "nbformat": 4,
 "nbformat_minor": 2
}
