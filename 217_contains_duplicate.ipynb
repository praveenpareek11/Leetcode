{
 "cells": [
  {
   "cell_type": "markdown",
   "metadata": {},
   "source": [
    "## 217. Contains Duplicate\n",
    "\n",
    "    Given an integer array nums, return true if any value appears at least twice in the array, and return false if every element is distinct.\n",
    "\n",
    "#### Examples:\n",
    "\n",
    "    Example 1:\n",
    "\n",
    "    Input: nums = [1,2,3,1]\n",
    "    Output: true\n",
    "\n",
    "    Example 2:\n",
    "\n",
    "    Input: nums = [1,2,3,4]\n",
    "    Output: false\n",
    "\n",
    "    Example 3:\n",
    "\n",
    "    Input: nums = [1,1,1,3,3,4,3,2,4,2]\n",
    "    Output: true\n",
    " \n",
    "\n",
    "#### Constraints:\n",
    "\n",
    "`    1 <= nums.length <= 105\n",
    "    -109 <= nums[i] <= 109`"
   ]
  },
  {
   "cell_type": "markdown",
   "metadata": {},
   "source": [
    "## Approach-01"
   ]
  },
  {
   "cell_type": "code",
   "execution_count": 1,
   "metadata": {},
   "outputs": [],
   "source": [
    "class Solution1:\n",
    "    def containsDuplicate(self, nums: list[int]) -> bool:\n",
    "        if len(nums) != len(set(nums)):\n",
    "            return True\n",
    "        else:\n",
    "            return False"
   ]
  },
  {
   "cell_type": "code",
   "execution_count": 2,
   "metadata": {},
   "outputs": [
    {
     "data": {
      "text/plain": [
       "True"
      ]
     },
     "execution_count": 2,
     "metadata": {},
     "output_type": "execute_result"
    }
   ],
   "source": [
    "Solution1().containsDuplicate([1,2,3,1])"
   ]
  },
  {
   "cell_type": "markdown",
   "metadata": {},
   "source": [
    "## Approach-02"
   ]
  },
  {
   "cell_type": "code",
   "execution_count": 3,
   "metadata": {},
   "outputs": [],
   "source": [
    "class Solution2:\n",
    "    def containsDuplicate(self, nums: list[int]) -> bool:\n",
    "            hash_map = dict()\n",
    "            for i in nums:\n",
    "                if  i in hash_map:\n",
    "                    return True\n",
    "                else:\n",
    "                    hash_map[i] =1\n",
    "            return False"
   ]
  },
  {
   "cell_type": "code",
   "execution_count": 4,
   "metadata": {},
   "outputs": [
    {
     "data": {
      "text/plain": [
       "True"
      ]
     },
     "execution_count": 4,
     "metadata": {},
     "output_type": "execute_result"
    }
   ],
   "source": [
    "Solution2().containsDuplicate([1,2,3,1])"
   ]
  }
 ],
 "metadata": {
  "kernelspec": {
   "display_name": "Python 3.10.8 64-bit ('tpot')",
   "language": "python",
   "name": "python3"
  },
  "language_info": {
   "codemirror_mode": {
    "name": "ipython",
    "version": 3
   },
   "file_extension": ".py",
   "mimetype": "text/x-python",
   "name": "python",
   "nbconvert_exporter": "python",
   "pygments_lexer": "ipython3",
   "version": "3.10.8"
  },
  "orig_nbformat": 4,
  "vscode": {
   "interpreter": {
    "hash": "55ff317a1992a31760d8ba7bfa633f436e5942a17ebc103a498241a022495e1f"
   }
  }
 },
 "nbformat": 4,
 "nbformat_minor": 2
}
