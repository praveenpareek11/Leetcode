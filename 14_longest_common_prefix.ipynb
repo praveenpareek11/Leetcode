{
 "cells": [
  {
   "cell_type": "markdown",
   "metadata": {},
   "source": [
    "## 14. Longest Common Prefix\n",
    "\n",
    "    Write a function to find the longest common prefix string amongst an array of strings.\n",
    "\n",
    "    If there is no common prefix, return an empty string \"\".\n",
    "\n",
    "#### Examples:\n",
    "\n",
    "    Example 1:\n",
    "\n",
    "    Input: strs = [\"flower\",\"flow\",\"flight\"]\n",
    "    Output: \"fl\"\n",
    "\n",
    "    Example 2:\n",
    "\n",
    "    Input: strs = [\"dog\",\"racecar\",\"car\"]\n",
    "    Output: \"\"\n",
    "    Explanation: There is no common prefix among the input strings.\n",
    "\n",
    "#### Constraints:\n",
    "\n",
    "    1 <= strs.length <= 200\n",
    "    0 <= strs[i].length <= 200\n",
    "    strs[i] consists of only lowercase English letters."
   ]
  },
  {
   "cell_type": "markdown",
   "metadata": {},
   "source": [
    "## Approach-01"
   ]
  },
  {
   "cell_type": "code",
   "execution_count": 3,
   "metadata": {},
   "outputs": [],
   "source": [
    "class Solution1:\n",
    "    \"\"\"\n",
    "    example:\n",
    "    strs = [\"flower\", \"flow\", \"flight\"]\n",
    "    l = list(zip(*strs))\n",
    "    >>> l = [('f', 'f', 'f'), ('l', 'l', 'l'), ('o', 'o', 'i'), ('w', 'w', 'g')]\n",
    "    \"\"\"\n",
    "    def longestCommonPrefix(self, strs: list[str]) -> str:\n",
    "        l = list(zip(*strs))\n",
    "        prefix = \"\"\n",
    "        for i in l:\n",
    "            if len(set(i))==1:\n",
    "                prefix += i[0]\n",
    "            else:\n",
    "                break\n",
    "        return prefix"
   ]
  },
  {
   "cell_type": "code",
   "execution_count": 4,
   "metadata": {},
   "outputs": [
    {
     "data": {
      "text/plain": [
       "'fl'"
      ]
     },
     "execution_count": 4,
     "metadata": {},
     "output_type": "execute_result"
    }
   ],
   "source": [
    "Solution1().longestCommonPrefix([\"flower\", \"flow\", \"flight\"])"
   ]
  },
  {
   "cell_type": "markdown",
   "metadata": {},
   "source": [
    "## Approach-02"
   ]
  },
  {
   "cell_type": "markdown",
   "metadata": {},
   "source": [
    "#### Points to Ponder:\n",
    "\n",
    "    traditional scan vertically\n",
    "    i      0  1  2  3  4  5\n",
    "    0      f  l  o  w  e  r\n",
    "    1      f  l  o  w\n",
    "    2      f  l  i  g  h  t\n",
    "            \n",
    "    We choose the first string in the list as a reference. in this case is str[0] = \"flower\"\n",
    "    the outside for-loop go through each character of the str[0] or \"flower\". f->l->o->w->e->r\n",
    "    the inside for-loop, go through the words, in this case is flow, flight.\n",
    "\n",
    "\n",
    "    strs[j][i] means the the i's character of the j words in the strs.\n",
    "\n",
    "    there are 3 cases when we proceed the scan:\n",
    "\n",
    "    case 1: strs[j][i] = c, strs[1][2] = 'o' and strs[0][2] = 'o';  keep going;\n",
    "    case 2: strs[j][i] != c, strs[2][2] = 'i' and strs[0][2] = 'o';  break the rule, we can return strs[j][:i]. when comes to slicing a string, [:i] won't include the index i;\n",
    "    case 3: i = len(strs[j]) which means current word at strs[j] doesn't have character at index i, since it's 0 based index. the lenght equals i, the index ends at i - 1; break the rule, we can return."
   ]
  },
  {
   "cell_type": "code",
   "execution_count": 5,
   "metadata": {},
   "outputs": [],
   "source": [
    "class Solution2:\n",
    "    def longestCommonPrefix(self, strs: list[str]) -> str:\n",
    "        if strs == None or len(strs) == 0: return \"\"\n",
    "        for i in range(len(strs[0])): \n",
    "            c = strs[0][i]\n",
    "            for j in range(1,len(strs)):\n",
    "                if i == len(strs[j]) or strs[j][i] != c:\n",
    "                    return strs[0][:i]\n",
    "        return strs[0] if strs else \"\""
   ]
  },
  {
   "cell_type": "code",
   "execution_count": 6,
   "metadata": {},
   "outputs": [
    {
     "data": {
      "text/plain": [
       "'fl'"
      ]
     },
     "execution_count": 6,
     "metadata": {},
     "output_type": "execute_result"
    }
   ],
   "source": [
    "Solution2().longestCommonPrefix([\"flower\", \"flow\", \"flight\"])"
   ]
  },
  {
   "cell_type": "code",
   "execution_count": 2,
   "metadata": {},
   "outputs": [
    {
     "data": {
      "text/plain": [
       "[('f', 'f', 'f'), ('l', 'l', 'l'), ('o', 'y', 'a')]"
      ]
     },
     "execution_count": 2,
     "metadata": {},
     "output_type": "execute_result"
    }
   ],
   "source": [
    "l = ['flower', 'fly', 'flair']\n",
    "p = list(zip(*l))\n",
    "p"
   ]
  },
  {
   "cell_type": "code",
   "execution_count": null,
   "metadata": {},
   "outputs": [],
   "source": []
  }
 ],
 "metadata": {
  "kernelspec": {
   "display_name": "Python 3.10.8 64-bit ('tpot')",
   "language": "python",
   "name": "python3"
  },
  "language_info": {
   "codemirror_mode": {
    "name": "ipython",
    "version": 3
   },
   "file_extension": ".py",
   "mimetype": "text/x-python",
   "name": "python",
   "nbconvert_exporter": "python",
   "pygments_lexer": "ipython3",
   "version": "3.10.8"
  },
  "orig_nbformat": 4,
  "vscode": {
   "interpreter": {
    "hash": "55ff317a1992a31760d8ba7bfa633f436e5942a17ebc103a498241a022495e1f"
   }
  }
 },
 "nbformat": 4,
 "nbformat_minor": 2
}
