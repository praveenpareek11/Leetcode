{
 "cells": [
  {
   "attachments": {},
   "cell_type": "markdown",
   "metadata": {},
   "source": [
    "## 387. First Unique Character in a String\n",
    "\n",
    "    Given a string s, find the first non-repeating character in it and return its index. If it does not exist, return -1.\n",
    "\n",
    "#### Examples:\n",
    "\n",
    "    Example 1:\n",
    "\n",
    "    Input: s = \"leetcode\"\n",
    "    Output: 0\n",
    "\n",
    "    Example 2:\n",
    "\n",
    "    Input: s = \"loveleetcode\"\n",
    "    Output: 2\n",
    "\n",
    "    Example 3:\n",
    "\n",
    "    Input: s = \"aabb\"\n",
    "    Output: -1\n",
    " \n",
    "\n",
    "#### Constraints:\n",
    "\n",
    "    1 <= s.length <= 105\n",
    "    s consists of only lowercase English letters."
   ]
  },
  {
   "cell_type": "markdown",
   "metadata": {},
   "source": [
    "## Approach-01"
   ]
  },
  {
   "cell_type": "code",
   "execution_count": 1,
   "metadata": {},
   "outputs": [],
   "source": [
    "class Solution1:\n",
    "    def firstUniqChar(self, s: str) -> int:\n",
    "        # Create a dictionary to keep track of the number of occurrences\n",
    "        # of each character in the string\n",
    "        char_counts = {}\n",
    "\n",
    "        # Loop through the string and update the dictionary\n",
    "        for c in s:\n",
    "            if c not in char_counts:\n",
    "                char_counts[c] = 1\n",
    "            else:\n",
    "                char_counts[c] += 1\n",
    "\n",
    "        # Loop through the string again and find the first character\n",
    "        # that has a count of 1 in the dictionary\n",
    "        for i, c in enumerate(s):\n",
    "            if char_counts[c] == 1:\n",
    "                return i\n",
    "\n",
    "        # If we didn't find any non-repeating characters, return -1\n",
    "        return -1"
   ]
  },
  {
   "cell_type": "code",
   "execution_count": 2,
   "metadata": {},
   "outputs": [
    {
     "data": {
      "text/plain": [
       "0"
      ]
     },
     "execution_count": 2,
     "metadata": {},
     "output_type": "execute_result"
    }
   ],
   "source": [
    "Solution1().firstUniqChar(\"leetcode\")"
   ]
  }
 ],
 "metadata": {
  "kernelspec": {
   "display_name": "Python 3.10.8 64-bit ('tpot')",
   "language": "python",
   "name": "python3"
  },
  "language_info": {
   "codemirror_mode": {
    "name": "ipython",
    "version": 3
   },
   "file_extension": ".py",
   "mimetype": "text/x-python",
   "name": "python",
   "nbconvert_exporter": "python",
   "pygments_lexer": "ipython3",
   "version": "3.10.8 (main, Oct 13 2022, 09:48:40) [Clang 14.0.0 (clang-1400.0.29.102)]"
  },
  "orig_nbformat": 4,
  "vscode": {
   "interpreter": {
    "hash": "55ff317a1992a31760d8ba7bfa633f436e5942a17ebc103a498241a022495e1f"
   }
  }
 },
 "nbformat": 4,
 "nbformat_minor": 2
}
