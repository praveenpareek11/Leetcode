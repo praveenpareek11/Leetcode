{
 "cells": [
  {
   "cell_type": "markdown",
   "metadata": {},
   "source": [
    "## 26. Remove Duplicates from Sorted Array\n",
    "\n",
    "    Given an integer array nums sorted in non-decreasing order, remove the duplicates in-place such that each unique element appears only once. The relative order of the elements should be kept the same.\n",
    "\n",
    "    Since it is impossible to change the length of the array in some languages, you must instead have the result be placed in the first part of the array nums. More formally, if there are k elements after removing the duplicates, then the first k elements of nums should hold the final result. It does not matter what you leave beyond the first k elements.\n",
    "\n",
    "    Return k after placing the final result in the first k slots of nums.\n",
    "\n",
    "    Do not allocate extra space for another array. You must do this by modifying the input array in-place with O(1) extra memory.\n",
    "\n",
    "#### Examples:\n",
    "\n",
    "    Example 1:\n",
    "\n",
    "    Input: nums = [1,1,2]\n",
    "    Output: 2, nums = [1,2,_]\n",
    "    Explanation: Your function should return k = 2, with the first two elements of nums being 1 and 2 respectively.\n",
    "    It does not matter what you leave beyond the returned k (hence they are underscores).\n",
    "    \n",
    "    Example 2:\n",
    "\n",
    "    Input: nums = [0,0,1,1,1,2,2,3,3,4]\n",
    "    Output: 5, nums = [0,1,2,3,4,_,_,_,_,_]\n",
    "    Explanation: Your function should return k = 5, with the first five elements of nums being 0, 1, 2, 3, and 4 respectively.\n",
    "    It does not matter what you leave beyond the returned k (hence they are underscores).\n",
    " \n",
    "\n",
    "#### Constraints:\n",
    "\n",
    "    1 <= nums.length <= 3 * 104\n",
    "    -100 <= nums[i] <= 100\n",
    "    nums is sorted in non-decreasing order."
   ]
  },
  {
   "cell_type": "markdown",
   "metadata": {},
   "source": [
    "## Approach-01"
   ]
  },
  {
   "cell_type": "code",
   "execution_count": 35,
   "metadata": {},
   "outputs": [],
   "source": [
    "class Solution1:\n",
    "\tdef removeDuplicates(self, nums: list[int]) -> int:\n",
    "\t\ti = 1\n",
    "\t\twhile i < len(nums):\n",
    "\t\t\tif nums[i] == nums[i - 1]:\n",
    "\t\t\t\tnums.pop(i)\n",
    "\t\t\telse:\n",
    "\t\t\t\ti += 1\n",
    "\t\treturn len(nums), nums"
   ]
  },
  {
   "cell_type": "code",
   "execution_count": 36,
   "metadata": {},
   "outputs": [
    {
     "data": {
      "text/plain": [
       "(2, [1, 2])"
      ]
     },
     "execution_count": 36,
     "metadata": {},
     "output_type": "execute_result"
    }
   ],
   "source": [
    "Solution1().removeDuplicates([1,2,2])"
   ]
  },
  {
   "cell_type": "markdown",
   "metadata": {},
   "source": [
    "## Approach-02"
   ]
  },
  {
   "cell_type": "markdown",
   "metadata": {},
   "source": [
    "#### Points to Ponder:\n",
    "\n",
    "    - Use a slow pointer to \"lock\" the \"wanted\" element, and use a fast pointer to move forward along the list and look for new unique elements in the list.\n",
    "    - Or, in other words, the current slow pointer is used to locate the latest unique number for the results, and fast is used for iterating and discovery.\n",
    "\n",
    "    - Have fast advanced in every iteration, but slow is only advanced when two pointers are onto two different elements.\n",
    "\n",
    "    - That means, the elements after nums[slow] and before nums[fast] are numbers we've seen before and don't need anymore (one copy of these numbers is already saved before the current slow (inclusive)).\n",
    "\n",
    "    - Therefore, in order to have this newly discovered (unseen) number pointed by the current fast to the front of the array for the final answer, we just need to swap this newly discovered number to the location that follows the current slow pointer, with one of the seen numbers (we don't need it for the answer regardlessly), and then advance the slow in the same iteration to lock this new number."
   ]
  },
  {
   "cell_type": "code",
   "execution_count": 42,
   "metadata": {},
   "outputs": [],
   "source": [
    "class Solution2:\n",
    "\tdef removeDuplicates(self, nums: list[int]) -> int:\n",
    "\t\tslow, fast = 0, 1\n",
    "\t\twhile fast in range(len(nums)):\n",
    "\t\t\tif nums[slow] == nums[fast]:\n",
    "\t\t\t\tfast += 1\n",
    "\t\t\telse:\n",
    "\t\t\t\tnums[slow+1] = nums[fast]\n",
    "\t\t\t\tfast += 1\n",
    "\t\t\t\tslow += 1\n",
    "\n",
    "\t\treturn slow + 1"
   ]
  },
  {
   "cell_type": "code",
   "execution_count": 43,
   "metadata": {},
   "outputs": [
    {
     "data": {
      "text/plain": [
       "2"
      ]
     },
     "execution_count": 43,
     "metadata": {},
     "output_type": "execute_result"
    }
   ],
   "source": [
    "Solution2().removeDuplicates([1,2,2])"
   ]
  },
  {
   "cell_type": "code",
   "execution_count": null,
   "metadata": {},
   "outputs": [],
   "source": []
  }
 ],
 "metadata": {
  "kernelspec": {
   "display_name": "Python 3.10.8 64-bit ('tpot')",
   "language": "python",
   "name": "python3"
  },
  "language_info": {
   "codemirror_mode": {
    "name": "ipython",
    "version": 3
   },
   "file_extension": ".py",
   "mimetype": "text/x-python",
   "name": "python",
   "nbconvert_exporter": "python",
   "pygments_lexer": "ipython3",
   "version": "3.10.8"
  },
  "orig_nbformat": 4,
  "vscode": {
   "interpreter": {
    "hash": "55ff317a1992a31760d8ba7bfa633f436e5942a17ebc103a498241a022495e1f"
   }
  }
 },
 "nbformat": 4,
 "nbformat_minor": 2
}
