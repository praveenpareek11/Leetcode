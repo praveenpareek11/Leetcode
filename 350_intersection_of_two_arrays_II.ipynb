{
 "cells": [
  {
   "attachments": {},
   "cell_type": "markdown",
   "metadata": {},
   "source": [
    "## 350. Intersection of Two Arrays II\n",
    "\n",
    "    Given two integer arrays nums1 and nums2, return an array of their intersection. Each element in the result must appear as many times as it shows in both arrays and you may return the result in any order.\n",
    "\n",
    "#### Examples:\n",
    "\n",
    "    Example 1:\n",
    "\n",
    "    Input: nums1 = [1,2,2,1], nums2 = [2,2]\n",
    "    Output: [2,2]\n",
    "\n",
    "    Example 2:\n",
    "\n",
    "    Input: nums1 = [4,9,5], nums2 = [9,4,9,8,4]\n",
    "    Output: [4,9]\n",
    "    Explanation: [9,4] is also accepted.\n",
    " \n",
    "\n",
    "#### Constraints:\n",
    "\n",
    "\n",
    "    1 <= nums1.length, nums2.length <= 1000\n",
    "    0 <= nums1[i], nums2[i] <= 1000\n",
    "    \n",
    "\n",
    "    Follow up:\n",
    "\n",
    "    What if the given array is already sorted? How would you optimize your algorithm?\n",
    "    What if nums1's size is small compared to nums2's size? Which algorithm is better?\n",
    "    What if elements of nums2 are stored on disk, and the memory is limited such that you cannot load all elements into the memory at once?"
   ]
  },
  {
   "cell_type": "markdown",
   "metadata": {},
   "source": [
    "## Approach-01"
   ]
  },
  {
   "cell_type": "code",
   "execution_count": 1,
   "metadata": {},
   "outputs": [],
   "source": [
    "class Solution1():\n",
    "    def intersect(self, nums1, nums2):\n",
    "\n",
    "        counts = {}\n",
    "        res = []\n",
    "\n",
    "        for num in nums1:\n",
    "            counts[num] = counts.get(num, 0) + 1\n",
    "\n",
    "        for num in nums2:\n",
    "            if num in counts and counts[num] > 0:\n",
    "                res.append(num)\n",
    "                counts[num] -= 1\n",
    "\n",
    "        return res"
   ]
  },
  {
   "cell_type": "code",
   "execution_count": 3,
   "metadata": {},
   "outputs": [
    {
     "data": {
      "text/plain": [
       "[2, 2]"
      ]
     },
     "execution_count": 3,
     "metadata": {},
     "output_type": "execute_result"
    }
   ],
   "source": [
    "Solution1().intersect([1,2,2,1], [2,2])"
   ]
  }
 ],
 "metadata": {
  "kernelspec": {
   "display_name": "Python 3.10.8 64-bit ('tpot')",
   "language": "python",
   "name": "python3"
  },
  "language_info": {
   "codemirror_mode": {
    "name": "ipython",
    "version": 3
   },
   "file_extension": ".py",
   "mimetype": "text/x-python",
   "name": "python",
   "nbconvert_exporter": "python",
   "pygments_lexer": "ipython3",
   "version": "3.10.8"
  },
  "orig_nbformat": 4,
  "vscode": {
   "interpreter": {
    "hash": "55ff317a1992a31760d8ba7bfa633f436e5942a17ebc103a498241a022495e1f"
   }
  }
 },
 "nbformat": 4,
 "nbformat_minor": 2
}
