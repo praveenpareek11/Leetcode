{
 "cells": [
  {
   "cell_type": "markdown",
   "metadata": {},
   "source": [
    "## 136. Single Number\n",
    "\n",
    "    Given a non-empty array of integers nums, every element appears twice except for one. Find that single one.\n",
    "\n",
    "    You must implement a solution with a linear runtime complexity and use only constant extra space.\n",
    "\n",
    "#### Examples:\n",
    "\n",
    "    Example 1:\n",
    "\n",
    "    Input: nums = [2,2,1]\n",
    "    Output: 1\n",
    "\n",
    "    Example 2:\n",
    "\n",
    "    Input: nums = [4,1,2,1,2]\n",
    "    Output: 4\n",
    "\n",
    "    Example 3:\n",
    "\n",
    "    Input: nums = [1]\n",
    "    Output: 1\n",
    " \n",
    "\n",
    "#### Constraints:\n",
    "\n",
    "    1 <= nums.length <= 3 * 104\n",
    "    -3 * 104 <= nums[i] <= 3 * 104\n",
    "    Each element in the array appears twice except for one element which appears only once."
   ]
  },
  {
   "cell_type": "markdown",
   "metadata": {},
   "source": [
    "## Approach-01"
   ]
  },
  {
   "cell_type": "code",
   "execution_count": 1,
   "metadata": {},
   "outputs": [],
   "source": [
    "# Optimized solution with time = O(n) and space = O(1)\n",
    "class Solution1:\n",
    "    def singleNumber(self, nums: list[int]) -> int:\n",
    "        res = 0\n",
    "        for num in nums:\n",
    "            res ^= num\n",
    "        return res"
   ]
  },
  {
   "cell_type": "code",
   "execution_count": 3,
   "metadata": {},
   "outputs": [
    {
     "data": {
      "text/plain": [
       "5"
      ]
     },
     "execution_count": 3,
     "metadata": {},
     "output_type": "execute_result"
    }
   ],
   "source": [
    "Solution1().singleNumber([1,2,3,3,2,1,5])"
   ]
  },
  {
   "cell_type": "markdown",
   "metadata": {},
   "source": [
    "## Approach-02"
   ]
  },
  {
   "cell_type": "code",
   "execution_count": 5,
   "metadata": {},
   "outputs": [],
   "source": [
    "class Solution2:\n",
    "    def singleNumber(self, nums):\n",
    "        return 2*sum(set(nums))-sum(nums)"
   ]
  },
  {
   "cell_type": "code",
   "execution_count": 6,
   "metadata": {},
   "outputs": [
    {
     "data": {
      "text/plain": [
       "5"
      ]
     },
     "execution_count": 6,
     "metadata": {},
     "output_type": "execute_result"
    }
   ],
   "source": [
    "Solution2().singleNumber([1,2,3,3,2,1,5])"
   ]
  }
 ],
 "metadata": {
  "kernelspec": {
   "display_name": "Python 3.10.8 64-bit ('tpot')",
   "language": "python",
   "name": "python3"
  },
  "language_info": {
   "codemirror_mode": {
    "name": "ipython",
    "version": 3
   },
   "file_extension": ".py",
   "mimetype": "text/x-python",
   "name": "python",
   "nbconvert_exporter": "python",
   "pygments_lexer": "ipython3",
   "version": "3.10.8 (main, Oct 13 2022, 09:48:40) [Clang 14.0.0 (clang-1400.0.29.102)]"
  },
  "orig_nbformat": 4,
  "vscode": {
   "interpreter": {
    "hash": "55ff317a1992a31760d8ba7bfa633f436e5942a17ebc103a498241a022495e1f"
   }
  }
 },
 "nbformat": 4,
 "nbformat_minor": 2
}
