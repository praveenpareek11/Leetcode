{
 "cells": [
  {
   "cell_type": "markdown",
   "metadata": {},
   "source": [
    "## 171. Excel Sheet Column Number\n",
    "\n",
    "    Given a string columnTitle that represents the column title as appears in an Excel sheet, return its corresponding column number.\n",
    "\n",
    "    For example:\n",
    "\n",
    "    A -> 1\n",
    "    B -> 2\n",
    "    C -> 3\n",
    "    ...\n",
    "    Z -> 26\n",
    "    AA -> 27\n",
    "    AB -> 28 \n",
    "    ...\n",
    "\n",
    "#### Examples:\n",
    "\n",
    "    Example 1:\n",
    "\n",
    "    Input: columnTitle = \"A\"\n",
    "    Output: 1\n",
    "\n",
    "    Example 2:\n",
    "\n",
    "    Input: columnTitle = \"AB\"\n",
    "    Output: 28\n",
    "\n",
    "    Example 3:\n",
    "\n",
    "    Input: columnTitle = \"ZY\"\n",
    "    Output: 701\n",
    " \n",
    "\n",
    "#### Constraints:\n",
    "\n",
    "    1 <= columnTitle.length <= 7\n",
    "    columnTitle consists only of uppercase English letters.\n",
    "    columnTitle is in the range [\"A\", \"FXSHRXW\"]."
   ]
  },
  {
   "cell_type": "markdown",
   "metadata": {},
   "source": [
    "## Approach-01"
   ]
  },
  {
   "cell_type": "code",
   "execution_count": 1,
   "metadata": {},
   "outputs": [],
   "source": [
    "class Solution1:\n",
    "    def titleToNumber(self, columnTitle: str) -> int:\n",
    "        \n",
    "        n = 0\n",
    "        columnTitle = columnTitle[::-1]\n",
    "        l = len(columnTitle)\n",
    "        \n",
    "        for i in range(l):\n",
    "            \n",
    "            value = (ord(columnTitle[i]) - 64)\n",
    "            n += (26**i) * value\n",
    "            \n",
    "        return n"
   ]
  },
  {
   "cell_type": "code",
   "execution_count": 2,
   "metadata": {},
   "outputs": [
    {
     "data": {
      "text/plain": [
       "701"
      ]
     },
     "execution_count": 2,
     "metadata": {},
     "output_type": "execute_result"
    }
   ],
   "source": [
    "Solution1().titleToNumber(\"ZY\")"
   ]
  },
  {
   "cell_type": "markdown",
   "metadata": {},
   "source": [
    "## Approach-02"
   ]
  },
  {
   "cell_type": "code",
   "execution_count": 3,
   "metadata": {},
   "outputs": [],
   "source": [
    "class Solution2():\n",
    "    def titleToNumber(self, s):\n",
    "        return sum(26**p*(ord(c)-64)for p,c in enumerate(s[::-1]))"
   ]
  },
  {
   "cell_type": "code",
   "execution_count": 4,
   "metadata": {},
   "outputs": [
    {
     "data": {
      "text/plain": [
       "701"
      ]
     },
     "execution_count": 4,
     "metadata": {},
     "output_type": "execute_result"
    }
   ],
   "source": [
    "Solution2().titleToNumber(\"ZY\")"
   ]
  }
 ],
 "metadata": {
  "kernelspec": {
   "display_name": "Python 3.10.8 64-bit ('tpot')",
   "language": "python",
   "name": "python3"
  },
  "language_info": {
   "codemirror_mode": {
    "name": "ipython",
    "version": 3
   },
   "file_extension": ".py",
   "mimetype": "text/x-python",
   "name": "python",
   "nbconvert_exporter": "python",
   "pygments_lexer": "ipython3",
   "version": "3.10.8"
  },
  "orig_nbformat": 4,
  "vscode": {
   "interpreter": {
    "hash": "55ff317a1992a31760d8ba7bfa633f436e5942a17ebc103a498241a022495e1f"
   }
  }
 },
 "nbformat": 4,
 "nbformat_minor": 2
}
