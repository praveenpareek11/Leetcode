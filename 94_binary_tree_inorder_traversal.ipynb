{
 "cells": [
  {
   "attachments": {},
   "cell_type": "markdown",
   "metadata": {},
   "source": [
    "## 94. Binary Tree Inorder Traversal\n",
    "\n",
    "    Given the root of a binary tree, return the inorder traversal of its nodes' values.\n",
    "\n",
    "#### Examples:\n",
    "\n",
    "    Example 1:\n",
    "\n",
    "    Input: root = [1,null,2,3]\n",
    "    Output: [1,3,2]\n",
    "\n",
    "    Example 2:\n",
    "\n",
    "    Input: root = []\n",
    "    Output: []\n",
    "\n",
    "    Example 3:\n",
    "\n",
    "    Input: root = [1]\n",
    "    Output: [1]\n",
    "\n",
    " \n",
    "\n",
    "#### Constraints:\n",
    "\n",
    "    The number of nodes in the tree is in the range [0, 100].\n",
    "    -100 <= Node.val <= 100\n",
    "    \n",
    "\n",
    "    Follow up: Recursive solution is trivial, could you do it iteratively?"
   ]
  },
  {
   "attachments": {},
   "cell_type": "markdown",
   "metadata": {},
   "source": [
    "## Strategy:\n",
    "\n",
    "    This algorithm works by using a stack to keep track of the nodes as it traverses the tree in an inorder fashion.\n",
    "    \n",
    "    It first goes as far left as possible, adding each node to the stack as it goes.\n",
    "    \n",
    "    When it reaches a leaf node (a node with no left child), it pops the top node from the stack and adds its value to the result list.\n",
    "    \n",
    "    It then moves to the right child of the popped node and continues the process.\n",
    "    \n",
    "    This continues until the stack is empty, at which point the entire tree has been traversed and the result list contains the values of the nodes in the order they were visited during the inorder traversal."
   ]
  },
  {
   "cell_type": "markdown",
   "metadata": {},
   "source": [
    "## Approach-01"
   ]
  },
  {
   "cell_type": "code",
   "execution_count": 27,
   "metadata": {},
   "outputs": [],
   "source": [
    "# recursively\n",
    "\n",
    "class Solution1:\n",
    "    def inorderTraversal(self, root):\n",
    "        res = []\n",
    "        self.helper(root, res)\n",
    "        return res\n",
    "        \n",
    "    def helper(self, root, res):\n",
    "        if root:\n",
    "            self.helper(root.left, res)\n",
    "            res.append(root.val)\n",
    "            self.helper(root.right, res)"
   ]
  },
  {
   "attachments": {},
   "cell_type": "markdown",
   "metadata": {},
   "source": [
    "### Points to Ponder:\n",
    "\n",
    "    Here's how the algorithm works:\n",
    "\n",
    "    1. Initialize an empty list 'res' to store the results, and an empty stack 'stack' to keep track of the nodes as we traverse the tree.\n",
    "    \n",
    "    2. While the root node is not None, add it to the stack and then set root to its left child. This step is repeated until we reach a leaf node (a node with no left child).\n",
    "    \n",
    "    3. If the stack is empty, we have traversed the entire tree and can return the results.\n",
    "    \n",
    "    4. Otherwise, we pop the top node from the stack and append its value to the results list. Then, we set root to the right child of the popped node and go back to step 2."
   ]
  },
  {
   "cell_type": "markdown",
   "metadata": {},
   "source": [
    "## Approach-02"
   ]
  },
  {
   "cell_type": "code",
   "execution_count": 28,
   "metadata": {},
   "outputs": [],
   "source": [
    "# Definition for a binary tree node.\n",
    "# class TreeNode:\n",
    "#     def __init__(self, val=0, left=None, right=None):\n",
    "#         self.val = val\n",
    "#         self.left = left\n",
    "#         self.right = right\n",
    "class Solution2:\n",
    "    def inorderTraversal(self, root) -> list[int]:\n",
    "        result = []\n",
    "        stack = []\n",
    "\n",
    "        while stack or root:\n",
    "            if root:\n",
    "                stack.append(root)\n",
    "                root = root.left\n",
    "            else:\n",
    "                node = stack.pop()\n",
    "                result.append(node.val)\n",
    "                root = node.right\n",
    "\n",
    "        return result\n",
    "        "
   ]
  },
  {
   "attachments": {},
   "cell_type": "markdown",
   "metadata": {},
   "source": [
    "### Points to Ponder:\n",
    "\n",
    "    Here's how the algorithm works:\n",
    "\n",
    "    1. Initialize an empty list result to store the results, and an empty stack stack to keep track of the nodes as we traverse the tree.\n",
    "    \n",
    "    2. While the stack is not empty or root is not None, do the following:\n",
    "    \n",
    "        1. If root is not None, add it to the stack and set root to its left child.\n",
    "        \n",
    "        2. Otherwise, pop the top node from the stack and append its value to the results list. Then, set root to the right child of the popped node.\n",
    "        \n",
    "    3. Return the result list."
   ]
  },
  {
   "attachments": {},
   "cell_type": "markdown",
   "metadata": {},
   "source": [
    "### See the Example in Action:"
   ]
  },
  {
   "cell_type": "code",
   "execution_count": 29,
   "metadata": {},
   "outputs": [],
   "source": [
    "class TreeNode:\n",
    "    def __init__(self, val=0, left=None, right=None):\n",
    "        self.val = val\n",
    "        self.left = left\n",
    "        self.right = right"
   ]
  },
  {
   "cell_type": "code",
   "execution_count": 25,
   "metadata": {},
   "outputs": [],
   "source": [
    "root = TreeNode(1)\n",
    "root.left = TreeNode(2)\n",
    "root.right = TreeNode(3)\n",
    "root.left.left = TreeNode(4)\n",
    "root.left.right = TreeNode(5)"
   ]
  },
  {
   "cell_type": "code",
   "execution_count": 30,
   "metadata": {},
   "outputs": [
    {
     "data": {
      "text/plain": [
       "[4, 2, 5, 1, 3]"
      ]
     },
     "execution_count": 30,
     "metadata": {},
     "output_type": "execute_result"
    }
   ],
   "source": [
    "Solution1().inorderTraversal(root)"
   ]
  },
  {
   "cell_type": "code",
   "execution_count": 31,
   "metadata": {},
   "outputs": [
    {
     "data": {
      "text/plain": [
       "[4, 2, 5, 1, 3]"
      ]
     },
     "execution_count": 31,
     "metadata": {},
     "output_type": "execute_result"
    }
   ],
   "source": [
    "Solution2().inorderTraversal(root)"
   ]
  }
 ],
 "metadata": {
  "kernelspec": {
   "display_name": "Python 3.10.8 64-bit ('tpot')",
   "language": "python",
   "name": "python3"
  },
  "language_info": {
   "codemirror_mode": {
    "name": "ipython",
    "version": 3
   },
   "file_extension": ".py",
   "mimetype": "text/x-python",
   "name": "python",
   "nbconvert_exporter": "python",
   "pygments_lexer": "ipython3",
   "version": "3.10.8"
  },
  "orig_nbformat": 4,
  "vscode": {
   "interpreter": {
    "hash": "55ff317a1992a31760d8ba7bfa633f436e5942a17ebc103a498241a022495e1f"
   }
  }
 },
 "nbformat": 4,
 "nbformat_minor": 2
}
